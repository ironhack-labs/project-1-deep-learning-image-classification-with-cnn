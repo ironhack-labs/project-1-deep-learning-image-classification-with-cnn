{
 "cells": [
  {
   "cell_type": "markdown",
   "metadata": {},
   "source": [
    "1. **Data Preprocessing**\n",
    "   - Data loading and preprocessing (e.g., normalization, resizing, augmentation).\n",
    "   - Create visualizations of some images, and labels."
   ]
  },
  {
   "cell_type": "code",
   "execution_count": null,
   "metadata": {
    "vscode": {
     "languageId": "plaintext"
    }
   },
   "outputs": [],
   "source": []
  },
  {
   "cell_type": "markdown",
   "metadata": {},
   "source": [
    "2. **Model Architecture**\n",
    "   - Design a CNN architecture suitable for image classification.\n",
    "   - Include convolutional layers, pooling layers, and fully connected layers."
   ]
  },
  {
   "cell_type": "code",
   "execution_count": null,
   "metadata": {
    "vscode": {
     "languageId": "plaintext"
    }
   },
   "outputs": [],
   "source": []
  },
  {
   "cell_type": "markdown",
   "metadata": {},
   "source": [
    "3. **Model Training**\n",
    "   - Train the CNN model using appropriate optimization techniques (e.g., stochastic gradient descent, Adam).\n",
    "   - Utilize techniques such as early stopping to prevent overfitting."
   ]
  },
  {
   "cell_type": "code",
   "execution_count": null,
   "metadata": {
    "vscode": {
     "languageId": "plaintext"
    }
   },
   "outputs": [],
   "source": []
  },
  {
   "cell_type": "markdown",
   "metadata": {},
   "source": [
    "4. **Model Evaluation**\n",
    "   - Evaluate the trained model on a separate validation set.\n",
    "   - Compute and report metrics such as accuracy, precision, recall, and F1-score.\n",
    "   - Visualize the confusion matrix to understand model performance across different classes."
   ]
  },
  {
   "cell_type": "code",
   "execution_count": null,
   "metadata": {
    "vscode": {
     "languageId": "plaintext"
    }
   },
   "outputs": [],
   "source": []
  },
  {
   "cell_type": "markdown",
   "metadata": {},
   "source": [
    "5. **Transfer Learning**\n",
    "    - Evaluate the accuracy of your model on a pre-trained models like ImagNet, VGG16, Inception... (pick one an justify your choice)\n",
    "        - You may find this [link](https://www.tensorflow.org/tutorials/images/transfer_learning_with_hub) helpful.\n",
    "        - [This](https://pytorch.org/tutorials/beginner/transfer_learning_tutorial.html) is the Pytorch version.\n",
    "    - Perform transfer learning with your chosen pre-trained models i.e., you will probably try a few and choose the best one."
   ]
  },
  {
   "cell_type": "code",
   "execution_count": null,
   "metadata": {
    "vscode": {
     "languageId": "plaintext"
    }
   },
   "outputs": [],
   "source": []
  },
  {
   "cell_type": "markdown",
   "metadata": {},
   "source": [
    "5. **Code Quality**\n",
    "   - Well-structured and commented code.\n",
    "   - Proper documentation of functions and processes.\n",
    "   - Efficient use of libraries and resources."
   ]
  },
  {
   "cell_type": "code",
   "execution_count": null,
   "metadata": {
    "vscode": {
     "languageId": "plaintext"
    }
   },
   "outputs": [],
   "source": []
  },
  {
   "cell_type": "markdown",
   "metadata": {},
   "source": [
    "6. **Report**\n",
    "   - Write a concise report detailing the approach taken, including:\n",
    "     - Description of the chosen CNN architecture.\n",
    "     - Explanation of preprocessing steps.\n",
    "     - Details of the training process (e.g., learning rate, batch size, number of epochs).\n",
    "     - Results and analysis of models performance.\n",
    "     - What is your best model. Why?\n",
    "     - Insights gained from the experimentation process.\n",
    "   - Include visualizations and diagrams where necessary."
   ]
  },
  {
   "cell_type": "code",
   "execution_count": null,
   "metadata": {
    "vscode": {
     "languageId": "plaintext"
    }
   },
   "outputs": [],
   "source": []
  },
  {
   "cell_type": "markdown",
   "metadata": {},
   "source": [
    "7. **Model deployment**\n",
    "     - Pick the best model \n",
    "     - Build an app using Flask - Can you host somewhere other than your laptop? **+5 Bonus points if you use [Tensorflow Serving](https://www.tensorflow.org/tfx/guide/serving)**\n",
    "     - User should be able to upload one or multiples images get predictions including probabilities for each prediction"
   ]
  },
  {
   "cell_type": "code",
   "execution_count": null,
   "metadata": {
    "vscode": {
     "languageId": "plaintext"
    }
   },
   "outputs": [],
   "source": []
  }
 ],
 "metadata": {
  "language_info": {
   "name": "python"
  }
 },
 "nbformat": 4,
 "nbformat_minor": 2
}
